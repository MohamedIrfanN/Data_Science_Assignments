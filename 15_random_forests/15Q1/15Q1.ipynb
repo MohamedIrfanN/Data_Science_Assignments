{
 "cells": [
  {
   "cell_type": "markdown",
   "metadata": {},
   "source": [
    "# Random Forest Problem 1\n",
    "\n",
    "Use random forest ensemble to prepare a model on fraud data \n",
    "treating those who have taxable_income <= 30000 as \"Risky\" and others are \"Good\"\n",
    "\n",
    "### Data Description:\n",
    "- Undergrad : person is under graduated or not\n",
    "- Marital.Status : marital status of a person\n",
    "- Taxable.Income : Taxable income is the amount of how much tax an individual owes to the government \n",
    "- Work Experience : Work experience of an individual person\n",
    "- Urban : Whether that person belongs to urban area or not"
   ]
  },
  {
   "cell_type": "markdown",
   "metadata": {},
   "source": [
    "## Steps:\n",
    "\n",
    "1. Import new data set\n",
    "    - understand the dataset, look into it. \n",
    "    - add the new column fraud\n",
    "    - perform EDA.\n",
    "    - check data info and null values.\n",
    "2. Visualisation EDA\n",
    "    - making pairplot graphs to better understand the data.   \n",
    "3. Feature engineering\n",
    "    - understand all features involeved.\n",
    "    - list out features that needs to be considered in the model.\n",
    "    - get dummies if required\n",
    "    - Train | test spilliting\n",
    "4. Random Forest Classifier\n",
    "    - Default Parameters\n",
    "    - Evaluation\n",
    "5. Visualisation of Trees estimators\n",
    "    - Single tree estimator\n",
    "    - Multiple tree estimators\n",
    "6. Experimenting HyperParameters - Max features and Max tree nums\n",
    "7. Conclusion\n",
    "\n"
   ]
  },
  {
   "cell_type": "code",
   "execution_count": 5,
   "metadata": {
    "ExecuteTime": {
     "end_time": "2022-02-18T12:30:08.122236Z",
     "start_time": "2022-02-18T12:30:08.105542Z"
    }
   },
   "outputs": [],
   "source": [
    "#load the libraries\n",
    "import pandas as pd\n",
    "import numpy as np\n",
    "import pandas_profiling as pp\n",
    "import seaborn as sns\n",
    "from matplotlib import pyplot as plt\n",
    "from sklearn.model_selection import train_test_split\n",
    "from sklearn import preprocessing\n",
    "from sklearn.model_selection import KFold\n",
    "from sklearn.model_selection import cross_val_score\n",
    "from sklearn.ensemble import RandomForestClassifier"
   ]
  },
  {
   "cell_type": "markdown",
   "metadata": {},
   "source": [
    "## Import New Dataset"
   ]
  },
  {
   "cell_type": "code",
   "execution_count": 6,
   "metadata": {
    "ExecuteTime": {
     "end_time": "2022-02-18T12:30:12.644259Z",
     "start_time": "2022-02-18T12:30:12.571935Z"
    },
    "scrolled": true
   },
   "outputs": [
    {
     "data": {
      "text/html": [
       "<div>\n",
       "<style scoped>\n",
       "    .dataframe tbody tr th:only-of-type {\n",
       "        vertical-align: middle;\n",
       "    }\n",
       "\n",
       "    .dataframe tbody tr th {\n",
       "        vertical-align: top;\n",
       "    }\n",
       "\n",
       "    .dataframe thead th {\n",
       "        text-align: right;\n",
       "    }\n",
       "</style>\n",
       "<table border=\"1\" class=\"dataframe\">\n",
       "  <thead>\n",
       "    <tr style=\"text-align: right;\">\n",
       "      <th></th>\n",
       "      <th>undergrad</th>\n",
       "      <th>marital_status</th>\n",
       "      <th>tax_income</th>\n",
       "      <th>city_pop</th>\n",
       "      <th>work_exp</th>\n",
       "      <th>urban</th>\n",
       "    </tr>\n",
       "  </thead>\n",
       "  <tbody>\n",
       "    <tr>\n",
       "      <th>0</th>\n",
       "      <td>NO</td>\n",
       "      <td>Single</td>\n",
       "      <td>68833</td>\n",
       "      <td>50047</td>\n",
       "      <td>10</td>\n",
       "      <td>YES</td>\n",
       "    </tr>\n",
       "    <tr>\n",
       "      <th>1</th>\n",
       "      <td>YES</td>\n",
       "      <td>Divorced</td>\n",
       "      <td>33700</td>\n",
       "      <td>134075</td>\n",
       "      <td>18</td>\n",
       "      <td>YES</td>\n",
       "    </tr>\n",
       "    <tr>\n",
       "      <th>2</th>\n",
       "      <td>NO</td>\n",
       "      <td>Married</td>\n",
       "      <td>36925</td>\n",
       "      <td>160205</td>\n",
       "      <td>30</td>\n",
       "      <td>YES</td>\n",
       "    </tr>\n",
       "    <tr>\n",
       "      <th>3</th>\n",
       "      <td>YES</td>\n",
       "      <td>Single</td>\n",
       "      <td>50190</td>\n",
       "      <td>193264</td>\n",
       "      <td>15</td>\n",
       "      <td>YES</td>\n",
       "    </tr>\n",
       "    <tr>\n",
       "      <th>4</th>\n",
       "      <td>NO</td>\n",
       "      <td>Married</td>\n",
       "      <td>81002</td>\n",
       "      <td>27533</td>\n",
       "      <td>28</td>\n",
       "      <td>NO</td>\n",
       "    </tr>\n",
       "  </tbody>\n",
       "</table>\n",
       "</div>"
      ],
      "text/plain": [
       "  undergrad marital_status  tax_income  city_pop  work_exp urban\n",
       "0        NO         Single       68833     50047        10   YES\n",
       "1       YES       Divorced       33700    134075        18   YES\n",
       "2        NO        Married       36925    160205        30   YES\n",
       "3       YES         Single       50190    193264        15   YES\n",
       "4        NO        Married       81002     27533        28    NO"
      ]
     },
     "execution_count": 6,
     "metadata": {},
     "output_type": "execute_result"
    }
   ],
   "source": [
    "raw_data = pd.read_csv(\"C://Users//IRFAN//Documents//ExcelR//Assignment//15//15Q1//Fraud_check.csv\")\n",
    "raw_data.rename(columns={'Undergrad':'undergrad','Marital.Status':'marital_status','Taxable.Income':'tax_income','City.Population':'city_pop','Work.Experience':'work_exp','Urban':'urban'}, inplace=True)\n",
    "df = raw_data.copy()\n",
    "df.head()"
   ]
  },
  {
   "cell_type": "code",
   "execution_count": null,
   "metadata": {
    "ExecuteTime": {
     "end_time": "2022-02-18T12:28:12.454477Z",
     "start_time": "2022-02-18T12:28:06.298Z"
    }
   },
   "outputs": [],
   "source": [
    "#def func to assign fraud risky and good values\n",
    "\n",
    "def filt(x):\n",
    "    if x<=30000:\n",
    "        return 'Risky'\n",
    "    else:\n",
    "        return 'Good'"
   ]
  },
  {
   "cell_type": "code",
   "execution_count": null,
   "metadata": {
    "ExecuteTime": {
     "end_time": "2022-02-18T12:28:12.456480Z",
     "start_time": "2022-02-18T12:28:06.305Z"
    },
    "scrolled": true
   },
   "outputs": [],
   "source": [
    "df['fraud'] = df['tax_income'].copy()\n",
    "df['fraud'] = df['fraud'].apply(filt)\n",
    "df.head()"
   ]
  },
  {
   "cell_type": "code",
   "execution_count": null,
   "metadata": {
    "ExecuteTime": {
     "end_time": "2022-02-18T12:28:12.459480Z",
     "start_time": "2022-02-18T12:28:06.311Z"
    }
   },
   "outputs": [],
   "source": [
    "df.fraud.value_counts()"
   ]
  },
  {
   "cell_type": "code",
   "execution_count": null,
   "metadata": {
    "ExecuteTime": {
     "end_time": "2022-02-18T12:28:12.461479Z",
     "start_time": "2022-02-18T12:28:06.316Z"
    }
   },
   "outputs": [],
   "source": [
    "label_encoder = preprocessing.LabelEncoder()\n",
    "df['undergrad']= label_encoder.fit_transform(df['undergrad']) \n",
    "df['urban']= label_encoder.fit_transform(df['urban']) \n",
    "df['marital_status']= label_encoder.fit_transform(df['marital_status']) \n",
    "df['fraud']= label_encoder.fit_transform(df['fraud'])\n",
    "\n",
    "df.head()"
   ]
  },
  {
   "cell_type": "code",
   "execution_count": null,
   "metadata": {
    "ExecuteTime": {
     "end_time": "2022-02-18T12:28:12.469482Z",
     "start_time": "2022-02-18T12:28:06.321Z"
    }
   },
   "outputs": [],
   "source": [
    "df.info() # No null values"
   ]
  },
  {
   "cell_type": "code",
   "execution_count": null,
   "metadata": {
    "ExecuteTime": {
     "end_time": "2022-02-18T12:28:12.472486Z",
     "start_time": "2022-02-18T12:28:06.326Z"
    }
   },
   "outputs": [],
   "source": [
    "df.describe()"
   ]
  },
  {
   "cell_type": "markdown",
   "metadata": {},
   "source": [
    "## Visualization"
   ]
  },
  {
   "cell_type": "code",
   "execution_count": null,
   "metadata": {
    "ExecuteTime": {
     "end_time": "2022-02-18T12:28:12.474482Z",
     "start_time": "2022-02-18T12:28:06.329Z"
    }
   },
   "outputs": [],
   "source": [
    "sns.pairplot(df,hue='fraud',palette='Dark2')"
   ]
  },
  {
   "cell_type": "code",
   "execution_count": null,
   "metadata": {
    "ExecuteTime": {
     "end_time": "2022-02-18T12:28:12.477487Z",
     "start_time": "2022-02-18T12:28:06.333Z"
    }
   },
   "outputs": [],
   "source": [
    "sns.catplot(x='fraud',y='tax_income',data=df,kind='box',palette='Dark2')"
   ]
  },
  {
   "cell_type": "markdown",
   "metadata": {},
   "source": [
    "## Feature Engineering\n",
    "\n",
    "All the features in the dataset are relevant and can be used for model training.\n",
    "There are no dummies in the dataset."
   ]
  },
  {
   "cell_type": "markdown",
   "metadata": {},
   "source": [
    "### Train and Test Split data"
   ]
  },
  {
   "cell_type": "code",
   "execution_count": null,
   "metadata": {
    "ExecuteTime": {
     "end_time": "2022-02-18T12:28:12.480484Z",
     "start_time": "2022-02-18T12:28:06.340Z"
    }
   },
   "outputs": [],
   "source": [
    "X = df.iloc[:,:-1]\n",
    "y =df.fraud"
   ]
  },
  {
   "cell_type": "code",
   "execution_count": null,
   "metadata": {
    "ExecuteTime": {
     "end_time": "2022-02-18T12:28:12.483484Z",
     "start_time": "2022-02-18T12:28:06.344Z"
    }
   },
   "outputs": [],
   "source": [
    "X_train, X_test, y_train, y_test = train_test_split(X, y, test_size=0.3, random_state=50)"
   ]
  },
  {
   "cell_type": "markdown",
   "metadata": {},
   "source": [
    "## Random Forest Classification\n",
    "### Default Parameters"
   ]
  },
  {
   "cell_type": "code",
   "execution_count": null,
   "metadata": {
    "ExecuteTime": {
     "end_time": "2022-02-18T12:28:12.485484Z",
     "start_time": "2022-02-18T12:28:06.348Z"
    }
   },
   "outputs": [],
   "source": [
    "model =  RandomForestClassifier(n_estimators=10,max_features='auto',random_state=101)"
   ]
  },
  {
   "cell_type": "code",
   "execution_count": null,
   "metadata": {
    "ExecuteTime": {
     "end_time": "2022-02-18T12:28:12.488485Z",
     "start_time": "2022-02-18T12:28:06.352Z"
    }
   },
   "outputs": [],
   "source": [
    "model.fit(X_train,y_train)"
   ]
  },
  {
   "cell_type": "code",
   "execution_count": null,
   "metadata": {
    "ExecuteTime": {
     "end_time": "2022-02-18T12:28:12.491486Z",
     "start_time": "2022-02-18T12:28:06.355Z"
    }
   },
   "outputs": [],
   "source": [
    "base_pred = model.predict(X_test)"
   ]
  },
  {
   "cell_type": "markdown",
   "metadata": {},
   "source": [
    "### Evaluation"
   ]
  },
  {
   "cell_type": "code",
   "execution_count": null,
   "metadata": {
    "ExecuteTime": {
     "end_time": "2022-02-18T12:28:12.494486Z",
     "start_time": "2022-02-18T12:28:06.358Z"
    }
   },
   "outputs": [],
   "source": [
    "from sklearn.metrics import confusion_matrix,classification_report,plot_confusion_matrix"
   ]
  },
  {
   "cell_type": "code",
   "execution_count": null,
   "metadata": {
    "ExecuteTime": {
     "end_time": "2022-02-18T12:28:12.496488Z",
     "start_time": "2022-02-18T12:28:06.361Z"
    }
   },
   "outputs": [],
   "source": [
    "confusion_matrix(y_test,base_pred) #This is very good. But not sure if it's an overfitted model"
   ]
  },
  {
   "cell_type": "code",
   "execution_count": null,
   "metadata": {
    "ExecuteTime": {
     "end_time": "2022-02-18T12:28:12.498487Z",
     "start_time": "2022-02-18T12:28:06.363Z"
    }
   },
   "outputs": [],
   "source": [
    "plot_confusion_matrix(model,X_test,y_test)"
   ]
  },
  {
   "cell_type": "code",
   "execution_count": null,
   "metadata": {
    "ExecuteTime": {
     "end_time": "2022-02-18T12:28:12.500500Z",
     "start_time": "2022-02-18T12:28:06.366Z"
    }
   },
   "outputs": [],
   "source": [
    "print(classification_report(y_test,base_pred)) #Near perfect values"
   ]
  },
  {
   "cell_type": "code",
   "execution_count": null,
   "metadata": {
    "ExecuteTime": {
     "end_time": "2022-02-18T12:28:12.501488Z",
     "start_time": "2022-02-18T12:28:06.369Z"
    }
   },
   "outputs": [],
   "source": [
    "model.feature_importances_"
   ]
  },
  {
   "cell_type": "code",
   "execution_count": null,
   "metadata": {
    "ExecuteTime": {
     "end_time": "2022-02-18T12:28:12.503489Z",
     "start_time": "2022-02-18T12:28:06.373Z"
    },
    "scrolled": false
   },
   "outputs": [],
   "source": [
    "pd.DataFrame(index=X.columns,data=model.feature_importances_,columns=['Feature Importance']) \n",
    "#Only tax_income matters since our tree is based on it. "
   ]
  },
  {
   "cell_type": "markdown",
   "metadata": {},
   "source": [
    "## Visualization of Tree estimators"
   ]
  },
  {
   "cell_type": "markdown",
   "metadata": {},
   "source": [
    "### Visualization of a single tree estimator"
   ]
  },
  {
   "cell_type": "code",
   "execution_count": null,
   "metadata": {
    "ExecuteTime": {
     "end_time": "2022-02-18T12:28:12.504499Z",
     "start_time": "2022-02-18T12:28:06.376Z"
    },
    "scrolled": true
   },
   "outputs": [],
   "source": [
    "from sklearn import tree\n",
    "fn=df.columns.values[:-1]\n",
    "cn=df.columns.values[-1]\n",
    "fig, axes = plt.subplots(nrows = 1,ncols = 1,figsize = (4,4), dpi=800)\n",
    "tree.plot_tree(model.estimators_[0],\n",
    "               feature_names = fn, \n",
    "               class_names=cn,\n",
    "               filled = True);"
   ]
  },
  {
   "cell_type": "markdown",
   "metadata": {},
   "source": [
    "### Visualization of multiple trees used as estimators"
   ]
  },
  {
   "cell_type": "code",
   "execution_count": null,
   "metadata": {
    "ExecuteTime": {
     "end_time": "2022-02-18T12:28:12.506488Z",
     "start_time": "2022-02-18T12:28:06.379Z"
    },
    "scrolled": true
   },
   "outputs": [],
   "source": [
    "fig, axes = plt.subplots(nrows = 1,ncols = 5,figsize = (10,2), dpi=900) \n",
    "for index in range(0, 5):\n",
    "    tree.plot_tree(model.estimators_[index],\n",
    "                   feature_names = fn, \n",
    "                   class_names=cn,\n",
    "                   filled = True,\n",
    "                   ax = axes[index]);\n",
    "\n",
    "    axes[index].set_title('Estimator: ' + str(index), fontsize = 11)"
   ]
  },
  {
   "cell_type": "markdown",
   "metadata": {},
   "source": [
    "## Experimenting with HyperParameters"
   ]
  },
  {
   "cell_type": "markdown",
   "metadata": {},
   "source": [
    "Not much experimentation can be done in this case since it is a straightforward model that requires no further changes."
   ]
  },
  {
   "cell_type": "markdown",
   "metadata": {},
   "source": [
    "## Conclusion\n",
    "\n",
    "Random forest ensemble technique was perfomed on this dataset. However, the dataset was quite straight forward and linear. It didnt not have any other bias. So the model recieved good workout."
   ]
  },
  {
   "cell_type": "code",
   "execution_count": null,
   "metadata": {},
   "outputs": [],
   "source": []
  }
 ],
 "metadata": {
  "kernelspec": {
   "display_name": "Python 3",
   "language": "python",
   "name": "python3"
  },
  "language_info": {
   "codemirror_mode": {
    "name": "ipython",
    "version": 3
   },
   "file_extension": ".py",
   "mimetype": "text/x-python",
   "name": "python",
   "nbconvert_exporter": "python",
   "pygments_lexer": "ipython3",
   "version": "3.8.5"
  },
  "varInspector": {
   "cols": {
    "lenName": 16,
    "lenType": 16,
    "lenVar": 40
   },
   "kernels_config": {
    "python": {
     "delete_cmd_postfix": "",
     "delete_cmd_prefix": "del ",
     "library": "var_list.py",
     "varRefreshCmd": "print(var_dic_list())"
    },
    "r": {
     "delete_cmd_postfix": ") ",
     "delete_cmd_prefix": "rm(",
     "library": "var_list.r",
     "varRefreshCmd": "cat(var_dic_list()) "
    }
   },
   "types_to_exclude": [
    "module",
    "function",
    "builtin_function_or_method",
    "instance",
    "_Feature"
   ],
   "window_display": false
  }
 },
 "nbformat": 4,
 "nbformat_minor": 4
}
